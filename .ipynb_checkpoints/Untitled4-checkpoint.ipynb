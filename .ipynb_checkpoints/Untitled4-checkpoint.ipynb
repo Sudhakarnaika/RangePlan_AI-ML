{
 "cells": [
  {
   "cell_type": "code",
   "execution_count": 1,
   "id": "0e249c62",
   "metadata": {},
   "outputs": [
    {
     "name": "stdout",
     "output_type": "stream",
     "text": [
      "Requirement already satisfied: numpy in c:\\users\\admin\\appdata\\local\\programs\\python\\python311\\lib\\site-packages (1.24.1)\n",
      "Note: you may need to restart the kernel to use updated packages.\n"
     ]
    }
   ],
   "source": [
    "pip install numpy\n"
   ]
  },
  {
   "cell_type": "code",
   "execution_count": 2,
   "id": "6cfa5fbb",
   "metadata": {},
   "outputs": [
    {
     "name": "stdout",
     "output_type": "stream",
     "text": [
      "Requirement already satisfied: pandas in c:\\users\\admin\\appdata\\local\\programs\\python\\python311\\lib\\site-packages (1.5.2)Note: you may need to restart the kernel to use updated packages.\n",
      "\n",
      "Requirement already satisfied: python-dateutil>=2.8.1 in c:\\users\\admin\\appdata\\local\\programs\\python\\python311\\lib\\site-packages (from pandas) (2.8.2)\n",
      "Requirement already satisfied: pytz>=2020.1 in c:\\users\\admin\\appdata\\local\\programs\\python\\python311\\lib\\site-packages (from pandas) (2022.7)\n",
      "Requirement already satisfied: numpy>=1.21.0 in c:\\users\\admin\\appdata\\local\\programs\\python\\python311\\lib\\site-packages (from pandas) (1.24.1)\n",
      "Requirement already satisfied: six>=1.5 in c:\\users\\admin\\appdata\\local\\programs\\python\\python311\\lib\\site-packages (from python-dateutil>=2.8.1->pandas) (1.16.0)\n"
     ]
    }
   ],
   "source": [
    "pip install pandas\n"
   ]
  },
  {
   "cell_type": "code",
   "execution_count": 5,
   "id": "169f6b5b",
   "metadata": {},
   "outputs": [
    {
     "name": "stdout",
     "output_type": "stream",
     "text": [
      "Requirement already satisfied: sklearn in c:\\users\\admin\\appdata\\local\\programs\\python\\python311\\lib\\site-packages (0.0.post1)Note: you may need to restart the kernel to use updated packages.\n",
      "\n"
     ]
    }
   ],
   "source": [
    "pip install sklearn"
   ]
  },
  {
   "cell_type": "code",
   "execution_count": 139,
   "id": "12421f27",
   "metadata": {},
   "outputs": [],
   "source": [
    "import numpy as np\n",
    "import pandas as pd\n",
    "from sklearn.model_selection import train_test_split\n",
    "from sklearn.linear_model import LinearRegression\n",
    "from sklearn.metrics import r2_score\n",
    "from sklearn.preprocessing import OneHotEncoder\n",
    "from sklearn.compose import make_column_transformer\n",
    "from sklearn.pipeline import make_pipeline\n",
    "import pickle"
   ]
  },
  {
   "cell_type": "code",
   "execution_count": 140,
   "id": "148deb61",
   "metadata": {},
   "outputs": [],
   "source": [
    "car=pd.read_csv('car.csv')"
   ]
  },
  {
   "cell_type": "code",
   "execution_count": 141,
   "id": "280e1fe5",
   "metadata": {},
   "outputs": [],
   "source": [
    "x=car.drop(columns='price')"
   ]
  },
  {
   "cell_type": "code",
   "execution_count": 142,
   "id": "e5b9fd88",
   "metadata": {},
   "outputs": [],
   "source": [
    "y=car['price']"
   ]
  },
  {
   "cell_type": "code",
   "execution_count": 143,
   "id": "4b6fcded",
   "metadata": {},
   "outputs": [],
   "source": [
    "x_train, x_test, y_train, y_test = train_test_split(x,y, test_size = 0.2)"
   ]
  },
  {
   "cell_type": "code",
   "execution_count": 144,
   "id": "dd67efef",
   "metadata": {},
   "outputs": [],
   "source": [
    "ohe=OneHotEncoder()"
   ]
  },
  {
   "cell_type": "code",
   "execution_count": 145,
   "id": "25337979",
   "metadata": {},
   "outputs": [
    {
     "data": {
      "text/html": [
       "<style>#sk-container-id-10 {color: black;background-color: white;}#sk-container-id-10 pre{padding: 0;}#sk-container-id-10 div.sk-toggleable {background-color: white;}#sk-container-id-10 label.sk-toggleable__label {cursor: pointer;display: block;width: 100%;margin-bottom: 0;padding: 0.3em;box-sizing: border-box;text-align: center;}#sk-container-id-10 label.sk-toggleable__label-arrow:before {content: \"▸\";float: left;margin-right: 0.25em;color: #696969;}#sk-container-id-10 label.sk-toggleable__label-arrow:hover:before {color: black;}#sk-container-id-10 div.sk-estimator:hover label.sk-toggleable__label-arrow:before {color: black;}#sk-container-id-10 div.sk-toggleable__content {max-height: 0;max-width: 0;overflow: hidden;text-align: left;background-color: #f0f8ff;}#sk-container-id-10 div.sk-toggleable__content pre {margin: 0.2em;color: black;border-radius: 0.25em;background-color: #f0f8ff;}#sk-container-id-10 input.sk-toggleable__control:checked~div.sk-toggleable__content {max-height: 200px;max-width: 100%;overflow: auto;}#sk-container-id-10 input.sk-toggleable__control:checked~label.sk-toggleable__label-arrow:before {content: \"▾\";}#sk-container-id-10 div.sk-estimator input.sk-toggleable__control:checked~label.sk-toggleable__label {background-color: #d4ebff;}#sk-container-id-10 div.sk-label input.sk-toggleable__control:checked~label.sk-toggleable__label {background-color: #d4ebff;}#sk-container-id-10 input.sk-hidden--visually {border: 0;clip: rect(1px 1px 1px 1px);clip: rect(1px, 1px, 1px, 1px);height: 1px;margin: -1px;overflow: hidden;padding: 0;position: absolute;width: 1px;}#sk-container-id-10 div.sk-estimator {font-family: monospace;background-color: #f0f8ff;border: 1px dotted black;border-radius: 0.25em;box-sizing: border-box;margin-bottom: 0.5em;}#sk-container-id-10 div.sk-estimator:hover {background-color: #d4ebff;}#sk-container-id-10 div.sk-parallel-item::after {content: \"\";width: 100%;border-bottom: 1px solid gray;flex-grow: 1;}#sk-container-id-10 div.sk-label:hover label.sk-toggleable__label {background-color: #d4ebff;}#sk-container-id-10 div.sk-serial::before {content: \"\";position: absolute;border-left: 1px solid gray;box-sizing: border-box;top: 0;bottom: 0;left: 50%;z-index: 0;}#sk-container-id-10 div.sk-serial {display: flex;flex-direction: column;align-items: center;background-color: white;padding-right: 0.2em;padding-left: 0.2em;position: relative;}#sk-container-id-10 div.sk-item {position: relative;z-index: 1;}#sk-container-id-10 div.sk-parallel {display: flex;align-items: stretch;justify-content: center;background-color: white;position: relative;}#sk-container-id-10 div.sk-item::before, #sk-container-id-10 div.sk-parallel-item::before {content: \"\";position: absolute;border-left: 1px solid gray;box-sizing: border-box;top: 0;bottom: 0;left: 50%;z-index: -1;}#sk-container-id-10 div.sk-parallel-item {display: flex;flex-direction: column;z-index: 1;position: relative;background-color: white;}#sk-container-id-10 div.sk-parallel-item:first-child::after {align-self: flex-end;width: 50%;}#sk-container-id-10 div.sk-parallel-item:last-child::after {align-self: flex-start;width: 50%;}#sk-container-id-10 div.sk-parallel-item:only-child::after {width: 0;}#sk-container-id-10 div.sk-dashed-wrapped {border: 1px dashed gray;margin: 0 0.4em 0.5em 0.4em;box-sizing: border-box;padding-bottom: 0.4em;background-color: white;}#sk-container-id-10 div.sk-label label {font-family: monospace;font-weight: bold;display: inline-block;line-height: 1.2em;}#sk-container-id-10 div.sk-label-container {text-align: center;}#sk-container-id-10 div.sk-container {/* jupyter's `normalize.less` sets `[hidden] { display: none; }` but bootstrap.min.css set `[hidden] { display: none !important; }` so we also need the `!important` here to be able to override the default hidden behavior on the sphinx rendered scikit-learn.org. See: https://github.com/scikit-learn/scikit-learn/issues/21755 */display: inline-block !important;position: relative;}#sk-container-id-10 div.sk-text-repr-fallback {display: none;}</style><div id=\"sk-container-id-10\" class=\"sk-top-container\"><div class=\"sk-text-repr-fallback\"><pre>OneHotEncoder()</pre><b>In a Jupyter environment, please rerun this cell to show the HTML representation or trust the notebook. <br />On GitHub, the HTML representation is unable to render, please try loading this page with nbviewer.org.</b></div><div class=\"sk-container\" hidden><div class=\"sk-item\"><div class=\"sk-estimator sk-toggleable\"><input class=\"sk-toggleable__control sk-hidden--visually\" id=\"sk-estimator-id-34\" type=\"checkbox\" checked><label for=\"sk-estimator-id-34\" class=\"sk-toggleable__label sk-toggleable__label-arrow\">OneHotEncoder</label><div class=\"sk-toggleable__content\"><pre>OneHotEncoder()</pre></div></div></div></div></div>"
      ],
      "text/plain": [
       "OneHotEncoder()"
      ]
     },
     "execution_count": 145,
     "metadata": {},
     "output_type": "execute_result"
    }
   ],
   "source": [
    "ohe.fit(x[['CarName','fuel']])"
   ]
  },
  {
   "cell_type": "code",
   "execution_count": 146,
   "id": "b87848f4",
   "metadata": {},
   "outputs": [],
   "source": [
    "column_trans = make_column_transformer((OneHotEncoder(categories=ohe.categories_),['CarName','fuel']), remainder = 'passthrough')"
   ]
  },
  {
   "cell_type": "code",
   "execution_count": 147,
   "id": "eaefa525",
   "metadata": {},
   "outputs": [],
   "source": [
    "lr = LinearRegression()"
   ]
  },
  {
   "cell_type": "code",
   "execution_count": 148,
   "id": "4e2078df",
   "metadata": {},
   "outputs": [],
   "source": [
    "pipe = make_pipeline(column_trans,lr)"
   ]
  },
  {
   "cell_type": "code",
   "execution_count": 149,
   "id": "ef9953de",
   "metadata": {},
   "outputs": [
    {
     "data": {
      "text/html": [
       "<style>#sk-container-id-11 {color: black;background-color: white;}#sk-container-id-11 pre{padding: 0;}#sk-container-id-11 div.sk-toggleable {background-color: white;}#sk-container-id-11 label.sk-toggleable__label {cursor: pointer;display: block;width: 100%;margin-bottom: 0;padding: 0.3em;box-sizing: border-box;text-align: center;}#sk-container-id-11 label.sk-toggleable__label-arrow:before {content: \"▸\";float: left;margin-right: 0.25em;color: #696969;}#sk-container-id-11 label.sk-toggleable__label-arrow:hover:before {color: black;}#sk-container-id-11 div.sk-estimator:hover label.sk-toggleable__label-arrow:before {color: black;}#sk-container-id-11 div.sk-toggleable__content {max-height: 0;max-width: 0;overflow: hidden;text-align: left;background-color: #f0f8ff;}#sk-container-id-11 div.sk-toggleable__content pre {margin: 0.2em;color: black;border-radius: 0.25em;background-color: #f0f8ff;}#sk-container-id-11 input.sk-toggleable__control:checked~div.sk-toggleable__content {max-height: 200px;max-width: 100%;overflow: auto;}#sk-container-id-11 input.sk-toggleable__control:checked~label.sk-toggleable__label-arrow:before {content: \"▾\";}#sk-container-id-11 div.sk-estimator input.sk-toggleable__control:checked~label.sk-toggleable__label {background-color: #d4ebff;}#sk-container-id-11 div.sk-label input.sk-toggleable__control:checked~label.sk-toggleable__label {background-color: #d4ebff;}#sk-container-id-11 input.sk-hidden--visually {border: 0;clip: rect(1px 1px 1px 1px);clip: rect(1px, 1px, 1px, 1px);height: 1px;margin: -1px;overflow: hidden;padding: 0;position: absolute;width: 1px;}#sk-container-id-11 div.sk-estimator {font-family: monospace;background-color: #f0f8ff;border: 1px dotted black;border-radius: 0.25em;box-sizing: border-box;margin-bottom: 0.5em;}#sk-container-id-11 div.sk-estimator:hover {background-color: #d4ebff;}#sk-container-id-11 div.sk-parallel-item::after {content: \"\";width: 100%;border-bottom: 1px solid gray;flex-grow: 1;}#sk-container-id-11 div.sk-label:hover label.sk-toggleable__label {background-color: #d4ebff;}#sk-container-id-11 div.sk-serial::before {content: \"\";position: absolute;border-left: 1px solid gray;box-sizing: border-box;top: 0;bottom: 0;left: 50%;z-index: 0;}#sk-container-id-11 div.sk-serial {display: flex;flex-direction: column;align-items: center;background-color: white;padding-right: 0.2em;padding-left: 0.2em;position: relative;}#sk-container-id-11 div.sk-item {position: relative;z-index: 1;}#sk-container-id-11 div.sk-parallel {display: flex;align-items: stretch;justify-content: center;background-color: white;position: relative;}#sk-container-id-11 div.sk-item::before, #sk-container-id-11 div.sk-parallel-item::before {content: \"\";position: absolute;border-left: 1px solid gray;box-sizing: border-box;top: 0;bottom: 0;left: 50%;z-index: -1;}#sk-container-id-11 div.sk-parallel-item {display: flex;flex-direction: column;z-index: 1;position: relative;background-color: white;}#sk-container-id-11 div.sk-parallel-item:first-child::after {align-self: flex-end;width: 50%;}#sk-container-id-11 div.sk-parallel-item:last-child::after {align-self: flex-start;width: 50%;}#sk-container-id-11 div.sk-parallel-item:only-child::after {width: 0;}#sk-container-id-11 div.sk-dashed-wrapped {border: 1px dashed gray;margin: 0 0.4em 0.5em 0.4em;box-sizing: border-box;padding-bottom: 0.4em;background-color: white;}#sk-container-id-11 div.sk-label label {font-family: monospace;font-weight: bold;display: inline-block;line-height: 1.2em;}#sk-container-id-11 div.sk-label-container {text-align: center;}#sk-container-id-11 div.sk-container {/* jupyter's `normalize.less` sets `[hidden] { display: none; }` but bootstrap.min.css set `[hidden] { display: none !important; }` so we also need the `!important` here to be able to override the default hidden behavior on the sphinx rendered scikit-learn.org. See: https://github.com/scikit-learn/scikit-learn/issues/21755 */display: inline-block !important;position: relative;}#sk-container-id-11 div.sk-text-repr-fallback {display: none;}</style><div id=\"sk-container-id-11\" class=\"sk-top-container\"><div class=\"sk-text-repr-fallback\"><pre>Pipeline(steps=[(&#x27;columntransformer&#x27;,\n",
       "                 ColumnTransformer(remainder=&#x27;passthrough&#x27;,\n",
       "                                   transformers=[(&#x27;onehotencoder&#x27;,\n",
       "                                                  OneHotEncoder(categories=[array([&#x27;Nissan versa&#x27;, &#x27;alfa-romero Quadrifoglio&#x27;, &#x27;alfa-romero giulia&#x27;,\n",
       "       &#x27;alfa-romero stelvio&#x27;, &#x27;audi 100ls&#x27;, &#x27;audi 4000&#x27;, &#x27;audi 5000&#x27;,\n",
       "       &#x27;audi 5000s (diesel)&#x27;, &#x27;audi fox&#x27;, &#x27;bmw 320i&#x27;, &#x27;bmw x1&#x27;, &#x27;bmw x3&#x27;,\n",
       "       &#x27;bmw x4&#x27;, &#x27;bmw x5&#x27;, &#x27;bmw z4&#x27;, &#x27;buick centur...\n",
       "       &#x27;volkswagen 411 (sw)&#x27;, &#x27;volkswagen dasher&#x27;, &#x27;volkswagen model 111&#x27;,\n",
       "       &#x27;volkswagen rabbit&#x27;, &#x27;volkswagen rabbit custom&#x27;,\n",
       "       &#x27;volkswagen super beetle&#x27;, &#x27;volkswagen type 3&#x27;, &#x27;volvo 144ea&#x27;,\n",
       "       &#x27;volvo 145e (sw)&#x27;, &#x27;volvo 244dl&#x27;, &#x27;volvo 245&#x27;, &#x27;volvo 246&#x27;,\n",
       "       &#x27;volvo 264gl&#x27;, &#x27;volvo diesel&#x27;, &#x27;vw dasher&#x27;, &#x27;vw rabbit&#x27;],\n",
       "      dtype=object),\n",
       "                                                                            array([0, 1], dtype=int64)]),\n",
       "                                                  [&#x27;CarName&#x27;, &#x27;fuel&#x27;])])),\n",
       "                (&#x27;linearregression&#x27;, LinearRegression())])</pre><b>In a Jupyter environment, please rerun this cell to show the HTML representation or trust the notebook. <br />On GitHub, the HTML representation is unable to render, please try loading this page with nbviewer.org.</b></div><div class=\"sk-container\" hidden><div class=\"sk-item sk-dashed-wrapped\"><div class=\"sk-label-container\"><div class=\"sk-label sk-toggleable\"><input class=\"sk-toggleable__control sk-hidden--visually\" id=\"sk-estimator-id-35\" type=\"checkbox\" ><label for=\"sk-estimator-id-35\" class=\"sk-toggleable__label sk-toggleable__label-arrow\">Pipeline</label><div class=\"sk-toggleable__content\"><pre>Pipeline(steps=[(&#x27;columntransformer&#x27;,\n",
       "                 ColumnTransformer(remainder=&#x27;passthrough&#x27;,\n",
       "                                   transformers=[(&#x27;onehotencoder&#x27;,\n",
       "                                                  OneHotEncoder(categories=[array([&#x27;Nissan versa&#x27;, &#x27;alfa-romero Quadrifoglio&#x27;, &#x27;alfa-romero giulia&#x27;,\n",
       "       &#x27;alfa-romero stelvio&#x27;, &#x27;audi 100ls&#x27;, &#x27;audi 4000&#x27;, &#x27;audi 5000&#x27;,\n",
       "       &#x27;audi 5000s (diesel)&#x27;, &#x27;audi fox&#x27;, &#x27;bmw 320i&#x27;, &#x27;bmw x1&#x27;, &#x27;bmw x3&#x27;,\n",
       "       &#x27;bmw x4&#x27;, &#x27;bmw x5&#x27;, &#x27;bmw z4&#x27;, &#x27;buick centur...\n",
       "       &#x27;volkswagen 411 (sw)&#x27;, &#x27;volkswagen dasher&#x27;, &#x27;volkswagen model 111&#x27;,\n",
       "       &#x27;volkswagen rabbit&#x27;, &#x27;volkswagen rabbit custom&#x27;,\n",
       "       &#x27;volkswagen super beetle&#x27;, &#x27;volkswagen type 3&#x27;, &#x27;volvo 144ea&#x27;,\n",
       "       &#x27;volvo 145e (sw)&#x27;, &#x27;volvo 244dl&#x27;, &#x27;volvo 245&#x27;, &#x27;volvo 246&#x27;,\n",
       "       &#x27;volvo 264gl&#x27;, &#x27;volvo diesel&#x27;, &#x27;vw dasher&#x27;, &#x27;vw rabbit&#x27;],\n",
       "      dtype=object),\n",
       "                                                                            array([0, 1], dtype=int64)]),\n",
       "                                                  [&#x27;CarName&#x27;, &#x27;fuel&#x27;])])),\n",
       "                (&#x27;linearregression&#x27;, LinearRegression())])</pre></div></div></div><div class=\"sk-serial\"><div class=\"sk-item sk-dashed-wrapped\"><div class=\"sk-label-container\"><div class=\"sk-label sk-toggleable\"><input class=\"sk-toggleable__control sk-hidden--visually\" id=\"sk-estimator-id-36\" type=\"checkbox\" ><label for=\"sk-estimator-id-36\" class=\"sk-toggleable__label sk-toggleable__label-arrow\">columntransformer: ColumnTransformer</label><div class=\"sk-toggleable__content\"><pre>ColumnTransformer(remainder=&#x27;passthrough&#x27;,\n",
       "                  transformers=[(&#x27;onehotencoder&#x27;,\n",
       "                                 OneHotEncoder(categories=[array([&#x27;Nissan versa&#x27;, &#x27;alfa-romero Quadrifoglio&#x27;, &#x27;alfa-romero giulia&#x27;,\n",
       "       &#x27;alfa-romero stelvio&#x27;, &#x27;audi 100ls&#x27;, &#x27;audi 4000&#x27;, &#x27;audi 5000&#x27;,\n",
       "       &#x27;audi 5000s (diesel)&#x27;, &#x27;audi fox&#x27;, &#x27;bmw 320i&#x27;, &#x27;bmw x1&#x27;, &#x27;bmw x3&#x27;,\n",
       "       &#x27;bmw x4&#x27;, &#x27;bmw x5&#x27;, &#x27;bmw z4&#x27;, &#x27;buick century&#x27;,\n",
       "       &#x27;buick century luxus (sw)&#x27;, &#x27;buick cent...\n",
       "       &#x27;vokswagen rabbit&#x27;, &#x27;volkswagen 1131 deluxe sedan&#x27;,\n",
       "       &#x27;volkswagen 411 (sw)&#x27;, &#x27;volkswagen dasher&#x27;, &#x27;volkswagen model 111&#x27;,\n",
       "       &#x27;volkswagen rabbit&#x27;, &#x27;volkswagen rabbit custom&#x27;,\n",
       "       &#x27;volkswagen super beetle&#x27;, &#x27;volkswagen type 3&#x27;, &#x27;volvo 144ea&#x27;,\n",
       "       &#x27;volvo 145e (sw)&#x27;, &#x27;volvo 244dl&#x27;, &#x27;volvo 245&#x27;, &#x27;volvo 246&#x27;,\n",
       "       &#x27;volvo 264gl&#x27;, &#x27;volvo diesel&#x27;, &#x27;vw dasher&#x27;, &#x27;vw rabbit&#x27;],\n",
       "      dtype=object),\n",
       "                                                           array([0, 1], dtype=int64)]),\n",
       "                                 [&#x27;CarName&#x27;, &#x27;fuel&#x27;])])</pre></div></div></div><div class=\"sk-parallel\"><div class=\"sk-parallel-item\"><div class=\"sk-item\"><div class=\"sk-label-container\"><div class=\"sk-label sk-toggleable\"><input class=\"sk-toggleable__control sk-hidden--visually\" id=\"sk-estimator-id-37\" type=\"checkbox\" ><label for=\"sk-estimator-id-37\" class=\"sk-toggleable__label sk-toggleable__label-arrow\">onehotencoder</label><div class=\"sk-toggleable__content\"><pre>[&#x27;CarName&#x27;, &#x27;fuel&#x27;]</pre></div></div></div><div class=\"sk-serial\"><div class=\"sk-item\"><div class=\"sk-estimator sk-toggleable\"><input class=\"sk-toggleable__control sk-hidden--visually\" id=\"sk-estimator-id-38\" type=\"checkbox\" ><label for=\"sk-estimator-id-38\" class=\"sk-toggleable__label sk-toggleable__label-arrow\">OneHotEncoder</label><div class=\"sk-toggleable__content\"><pre>OneHotEncoder(categories=[array([&#x27;Nissan versa&#x27;, &#x27;alfa-romero Quadrifoglio&#x27;, &#x27;alfa-romero giulia&#x27;,\n",
       "       &#x27;alfa-romero stelvio&#x27;, &#x27;audi 100ls&#x27;, &#x27;audi 4000&#x27;, &#x27;audi 5000&#x27;,\n",
       "       &#x27;audi 5000s (diesel)&#x27;, &#x27;audi fox&#x27;, &#x27;bmw 320i&#x27;, &#x27;bmw x1&#x27;, &#x27;bmw x3&#x27;,\n",
       "       &#x27;bmw x4&#x27;, &#x27;bmw x5&#x27;, &#x27;bmw z4&#x27;, &#x27;buick century&#x27;,\n",
       "       &#x27;buick century luxus (sw)&#x27;, &#x27;buick century special&#x27;,\n",
       "       &#x27;buick electra 225 custom&#x27;, &#x27;buick opel isuzu deluxe&#x27;,\n",
       "       &#x27;buick regal spo...\n",
       "       &#x27;toyota starlet&#x27;, &#x27;toyota tercel&#x27;, &#x27;toyouta tercel&#x27;,\n",
       "       &#x27;vokswagen rabbit&#x27;, &#x27;volkswagen 1131 deluxe sedan&#x27;,\n",
       "       &#x27;volkswagen 411 (sw)&#x27;, &#x27;volkswagen dasher&#x27;, &#x27;volkswagen model 111&#x27;,\n",
       "       &#x27;volkswagen rabbit&#x27;, &#x27;volkswagen rabbit custom&#x27;,\n",
       "       &#x27;volkswagen super beetle&#x27;, &#x27;volkswagen type 3&#x27;, &#x27;volvo 144ea&#x27;,\n",
       "       &#x27;volvo 145e (sw)&#x27;, &#x27;volvo 244dl&#x27;, &#x27;volvo 245&#x27;, &#x27;volvo 246&#x27;,\n",
       "       &#x27;volvo 264gl&#x27;, &#x27;volvo diesel&#x27;, &#x27;vw dasher&#x27;, &#x27;vw rabbit&#x27;],\n",
       "      dtype=object),\n",
       "                          array([0, 1], dtype=int64)])</pre></div></div></div></div></div></div><div class=\"sk-parallel-item\"><div class=\"sk-item\"><div class=\"sk-label-container\"><div class=\"sk-label sk-toggleable\"><input class=\"sk-toggleable__control sk-hidden--visually\" id=\"sk-estimator-id-39\" type=\"checkbox\" ><label for=\"sk-estimator-id-39\" class=\"sk-toggleable__label sk-toggleable__label-arrow\">remainder</label><div class=\"sk-toggleable__content\"><pre>[]</pre></div></div></div><div class=\"sk-serial\"><div class=\"sk-item\"><div class=\"sk-estimator sk-toggleable\"><input class=\"sk-toggleable__control sk-hidden--visually\" id=\"sk-estimator-id-40\" type=\"checkbox\" ><label for=\"sk-estimator-id-40\" class=\"sk-toggleable__label sk-toggleable__label-arrow\">passthrough</label><div class=\"sk-toggleable__content\"><pre>passthrough</pre></div></div></div></div></div></div></div></div><div class=\"sk-item\"><div class=\"sk-estimator sk-toggleable\"><input class=\"sk-toggleable__control sk-hidden--visually\" id=\"sk-estimator-id-41\" type=\"checkbox\" ><label for=\"sk-estimator-id-41\" class=\"sk-toggleable__label sk-toggleable__label-arrow\">LinearRegression</label><div class=\"sk-toggleable__content\"><pre>LinearRegression()</pre></div></div></div></div></div></div></div>"
      ],
      "text/plain": [
       "Pipeline(steps=[('columntransformer',\n",
       "                 ColumnTransformer(remainder='passthrough',\n",
       "                                   transformers=[('onehotencoder',\n",
       "                                                  OneHotEncoder(categories=[array(['Nissan versa', 'alfa-romero Quadrifoglio', 'alfa-romero giulia',\n",
       "       'alfa-romero stelvio', 'audi 100ls', 'audi 4000', 'audi 5000',\n",
       "       'audi 5000s (diesel)', 'audi fox', 'bmw 320i', 'bmw x1', 'bmw x3',\n",
       "       'bmw x4', 'bmw x5', 'bmw z4', 'buick centur...\n",
       "       'volkswagen 411 (sw)', 'volkswagen dasher', 'volkswagen model 111',\n",
       "       'volkswagen rabbit', 'volkswagen rabbit custom',\n",
       "       'volkswagen super beetle', 'volkswagen type 3', 'volvo 144ea',\n",
       "       'volvo 145e (sw)', 'volvo 244dl', 'volvo 245', 'volvo 246',\n",
       "       'volvo 264gl', 'volvo diesel', 'vw dasher', 'vw rabbit'],\n",
       "      dtype=object),\n",
       "                                                                            array([0, 1], dtype=int64)]),\n",
       "                                                  ['CarName', 'fuel'])])),\n",
       "                ('linearregression', LinearRegression())])"
      ]
     },
     "execution_count": 149,
     "metadata": {},
     "output_type": "execute_result"
    }
   ],
   "source": [
    "pipe.fit(x_train, y_train)"
   ]
  },
  {
   "cell_type": "code",
   "execution_count": 150,
   "id": "54183755",
   "metadata": {},
   "outputs": [],
   "source": [
    "y_pred = pipe.predict(x_test)"
   ]
  },
  {
   "cell_type": "code",
   "execution_count": 151,
   "id": "71aceb7a",
   "metadata": {},
   "outputs": [
    {
     "data": {
      "text/plain": [
       "0.8893931198134999"
      ]
     },
     "execution_count": 151,
     "metadata": {},
     "output_type": "execute_result"
    }
   ],
   "source": [
    "r2_score(y_test, y_pred)"
   ]
  },
  {
   "cell_type": "code",
   "execution_count": 152,
   "id": "3d4a02f4",
   "metadata": {},
   "outputs": [],
   "source": [
    "scores=[]\n",
    "for i in range(1000):\n",
    "    x_train, x_test, y_train, y_test=train_test_split(x,y, test_size = 0.2, random_state=i)\n",
    "    lr = LinearRegression()\n",
    "    pipe = make_pipeline(column_trans,lr)\n",
    "    pipe.fit(x_train, y_train)\n",
    "    y_pred = pipe.predict(x_test)\n",
    "    scores.append(r2_score(y_test, y_pred))"
   ]
  },
  {
   "cell_type": "code",
   "execution_count": 153,
   "id": "603172f4",
   "metadata": {},
   "outputs": [
    {
     "data": {
      "text/plain": [
       "518"
      ]
     },
     "execution_count": 153,
     "metadata": {},
     "output_type": "execute_result"
    }
   ],
   "source": [
    "np.argmax(scores)"
   ]
  },
  {
   "cell_type": "code",
   "execution_count": 154,
   "id": "fc62403c",
   "metadata": {},
   "outputs": [
    {
     "data": {
      "text/plain": [
       "0.9667346466611272"
      ]
     },
     "execution_count": 154,
     "metadata": {},
     "output_type": "execute_result"
    }
   ],
   "source": [
    "scores[np.argmax(scores)]"
   ]
  },
  {
   "cell_type": "code",
   "execution_count": 155,
   "id": "7a7b935a",
   "metadata": {},
   "outputs": [
    {
     "data": {
      "text/plain": [
       "0.9667346466611272"
      ]
     },
     "execution_count": 155,
     "metadata": {},
     "output_type": "execute_result"
    }
   ],
   "source": [
    "x_train, x_test, y_train, y_test=train_test_split(x,y, test_size = 0.2, random_state=np.argmax(scores))\n",
    "lr = LinearRegression()\n",
    "pipe = make_pipeline(column_trans,lr)\n",
    "pipe.fit(x_train, y_train)\n",
    "y_pred = pipe.predict(x_test)\n",
    "r2_score(y_test, y_pred)"
   ]
  },
  {
   "cell_type": "code",
   "execution_count": 157,
   "id": "23b44476",
   "metadata": {},
   "outputs": [
    {
     "ename": "NameError",
     "evalue": "name 'wb' is not defined",
     "output_type": "error",
     "traceback": [
      "\u001b[1;31m---------------------------------------------------------------------------\u001b[0m",
      "\u001b[1;31mNameError\u001b[0m                                 Traceback (most recent call last)",
      "Cell \u001b[1;32mIn[157], line 1\u001b[0m\n\u001b[1;32m----> 1\u001b[0m pickle\u001b[38;5;241m.\u001b[39mdump(pipe, \u001b[38;5;28mopen\u001b[39m(\u001b[38;5;124m'\u001b[39m\u001b[38;5;124mLinearregmod.pkl\u001b[39m\u001b[38;5;124m'\u001b[39m,\u001b[43mwb\u001b[49m))\n",
      "\u001b[1;31mNameError\u001b[0m: name 'wb' is not defined"
     ]
    }
   ],
   "source": [
    "pickle.dump(pipe, open('Linearregmod.pkl', 'wb'))"
   ]
  },
  {
   "cell_type": "code",
   "execution_count": null,
   "id": "2fd38c9f",
   "metadata": {},
   "outputs": [],
   "source": []
  }
 ],
 "metadata": {
  "kernelspec": {
   "display_name": "Python 3 (ipykernel)",
   "language": "python",
   "name": "python3"
  },
  "language_info": {
   "codemirror_mode": {
    "name": "ipython",
    "version": 3
   },
   "file_extension": ".py",
   "mimetype": "text/x-python",
   "name": "python",
   "nbconvert_exporter": "python",
   "pygments_lexer": "ipython3",
   "version": "3.11.1"
  }
 },
 "nbformat": 4,
 "nbformat_minor": 5
}
